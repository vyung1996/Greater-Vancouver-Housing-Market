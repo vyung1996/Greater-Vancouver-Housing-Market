{
 "cells": [
  {
   "cell_type": "markdown",
   "id": "97c024c0",
   "metadata": {},
   "source": [
    "Import libraries"
   ]
  },
  {
   "cell_type": "code",
   "execution_count": 50,
   "id": "f452032d",
   "metadata": {},
   "outputs": [],
   "source": [
    "import requests\n",
    "from bs4 import BeautifulSoup\n",
    "import pandas as pd\n",
    "import json\n",
    "import re"
   ]
  },
  {
   "cell_type": "markdown",
   "id": "cfa23751",
   "metadata": {},
   "source": [
    "Extract data from Zillow.com\n",
    "\n",
    "- price\n",
    "- type of real estate\n",
    "- sqft\n",
    "- number of bedrooms\n",
    "- number of bathrooms\n",
    "- geographic location\n",
    "- postal code"
   ]
  },
  {
   "cell_type": "markdown",
   "id": "e216acaf",
   "metadata": {},
   "source": [
    "Data Scraping from Zillow"
   ]
  },
  {
   "cell_type": "code",
   "execution_count": 101,
   "id": "75740a6d",
   "metadata": {},
   "outputs": [],
   "source": [
    "soup = BeautifulSoup(content,'lxml')\n",
    "\n",
    "# setup zillow info\n",
    "header = {\n",
    "    'accept':'text/html,application/xhtml+xml,application/xml;q=0.9,image/avif,image/webp,image/apng,*/*;q=0.8,application/signed-exchange;v=b3;q=0.9',\n",
    "    'accept-encoding':'gzip, deflate',\n",
    "    'accept-language':'en-US,en;q=0.9',\n",
    "    'upgrade-insecure-requests':'1',\n",
    "    'user-agent':'Mozilla/5.0 (Macintosh; Intel Mac OS X 10_15_7) AppleWebKit/537.36 (KHTML, like Gecko) Chrome/123.0.0.0 Safari/537.36'\n",
    "    #'referer':'https://www.zillow.com/coquitlam-bc/?searchQueryState=%7B%22isMapVisible%22%3Atrue%2C%22mapBounds%22%3A%7B%22west%22%3A-123.22050242009584%2C%22east%22%3A-122.59908823552553%2C%22south%22%3A49.07533567746665%2C%22north%22%3A49.31987107874593%7D%2C%22mapZoom%22%3A12%2C%22regionSelection%22%3A%5B%7B%22regionId%22%3A791378%2C%22regionType%22%3A6%7D%2C%7B%22regionId%22%3A791534%2C%22regionType%22%3A6%7D%2C%7B%22regionId%22%3A791535%2C%22regionType%22%3A6%7D%2C%7B%22regionId%22%3A791533%2C%22regionType%22%3A6%7D%2C%7B%22regionId%22%3A791530%2C%22regionType%22%3A6%7D%5D%2C%22filterState%22%3A%7B%22sort%22%3A%7B%22value%22%3A%22globalrelevanceex%22%7D%2C%22ah%22%3A%7B%22value%22%3Atrue%7D%7D%2C%22isListVisible%22%3Atrue%7D'\n",
    "}\n",
    "url = 'https://www.zillow.com/metro-vancouver-regional-district-bc/1_p/'\n",
    "url2 = 'https://www.zillow.com/metro-vancouver-regional-district-bc/1_p/?searchQueryState=%7B%22isMapVisible%22%3Atrue%2C%22mapBounds%22%3A%7B%22west%22%3A-126.49231698339844%2C%22east%22%3A-121.52100350683594%2C%22south%22%3A48.385297573767375%2C%22north%22%3A50.45561673409384%7D%2C%22regionSelection%22%3A%5B%7B%22regionId%22%3A404635%2C%22regionType%22%3A4%7D%5D%2C%22filterState%22%3A%7B%22sort%22%3A%7B%22value%22%3A%22globalrelevanceex%22%7D%2C%22ah%22%3A%7B%22value%22%3Atrue%7D%7D%2C%22isListVisible%22%3Atrue%2C%22mapZoom%22%3A9%7D'\n",
    "# get the response\n",
    "response = requests.get(url = url2 , headers = header)\n",
    "#response.status_code\n",
    "# status_code is 200 = good\n"
   ]
  },
  {
   "cell_type": "code",
   "execution_count": 133,
   "id": "a10c75d4",
   "metadata": {},
   "outputs": [],
   "source": [
    "# Initalize soup\n",
    "soup = BeautifulSoup(response.content,'html.parser')\n",
    "#print(soup.prettify()) # okay it works"
   ]
  },
  {
   "cell_type": "code",
   "execution_count": null,
   "id": "8c8cb9b7",
   "metadata": {},
   "outputs": [],
   "source": [
    "# Test to see if we can grab correct information\n",
    "listings = soup.find('li',class_='ListItem-c11n-8-100-4__sc-13rwu5a-0 StyledListCardWrapper-srp-8-100-4__sc-wtsrtn-0 ggnGBj iXHkOx')\n",
    "#print(listings.prettify())\n",
    "\n",
    "# sale price\n",
    "pricing = listings.find('div',class_='PropertyCardWrapper__StyledPriceGridContainer-srp-8-100-4__sc-16e8gqd-0 eCcCyo').text\n",
    "#print(pricing)\n",
    "\n",
    "# beds / baths / sqft\n",
    "bds = listings.find('ul',class_='StyledPropertyCardHomeDetailsList-c11n-8-100-4__sc-1j0som5-0 dPkwmL').text\n",
    "#print(bds)\n",
    "\n",
    "# type of unit (house/appartment/conda/etc)\n",
    "# note this actually gets bd/ba/sqft/unit-type (will need to clean this after)\n",
    "unit_type = listings.find('div',class_='StyledPropertyCardDataArea-c11n-8-100-4__sc-10i1r6-0 loHGQM').text\n",
    "#print(unit_type)\n",
    "\n",
    "# mortage broker\n",
    "broker = listings.find('div',class_='StyledPropertyCardDataArea-c11n-8-100-4__sc-10i1r6-0 dRseUs').text\n",
    "#print(broker)\n",
    "\n",
    "# address\n",
    "location = listings.find('address').text\n",
    "#print(location)\n",
    "\n",
    "# long and lat\n",
    "data_geo = [\n",
    "    json.loads(x.string) for x in listings.find(\"script\", type=\"application/ld+json\")\n",
    "]\n",
    "for d in data_geo:\n",
    "    geographic = d[\"geo\"]\n",
    "    new = list(geographic.values())\n",
    "    lat = new[2]\n",
    "    long = new[3]\n",
    "  "
   ]
  },
  {
   "cell_type": "code",
   "execution_count": null,
   "id": "501ace4b",
   "metadata": {},
   "outputs": [],
   "source": [
    "# Test if we have collected the correct information\n",
    "for house in listings:\n",
    "    pricing = listings.find('div',class_='PropertyCardWrapper__StyledPriceGridContainer-srp-8-100-4__sc-16e8gqd-0 eCcCyo').text\n",
    "    # note this actually gets bd/ba/sqft/unit-type (will need to clean this after)\n",
    "    detail = listings.find('div',class_='StyledPropertyCardDataArea-c11n-8-100-4__sc-10i1r6-0 loHGQM').text\n",
    "    # we also want to find mortage broker\n",
    "    broker = listings.find('div',class_='StyledPropertyCardDataArea-c11n-8-100-4__sc-10i1r6-0 dRseUs').text\n",
    "    print(broker)\n",
    "    #address\n",
    "    address = listings.find('address').text\n",
    "    \n",
    "    data_geo = [json.loads(x.string) for x in listings.find(\"script\", type=\"application/ld+json\")]\n",
    "    for d in data_geo:\n",
    "        geographic = d[\"geo\"]\n",
    "        temp = list(geographic.values())\n",
    "        lat = temp[2]\n",
    "        long = temp[3]\n",
    "  \n",
    "    # check if we get all the info\n",
    "    print(f'''\n",
    "    Price: {pricing}\n",
    "    Details: {detail}\n",
    "    Broker_info: {broker}\n",
    "    Address: {address}\n",
    "    Long: {long}\n",
    "    lat: {lat}\n",
    "    ''')"
   ]
  },
  {
   "cell_type": "markdown",
   "id": "ca8d5582",
   "metadata": {},
   "source": [
    "Iterate through all pages from Zillow (Greater Vancouver)"
   ]
  },
  {
   "cell_type": "code",
   "execution_count": null,
   "id": "84e98f56",
   "metadata": {},
   "outputs": [],
   "source": [
    "sales_price = []\n",
    "detail_list = []\n",
    "broker_list = []\n",
    "address_list = []\n",
    "\n",
    "for page in range(1,21):\n",
    "    response = requests.get(url = f'https://www.zillow.com/metro-vancouver-regional-district-bc/{page}_p/' , headers = header)\n",
    "    soup = BeautifulSoup(response.content,'html.parser')\n",
    "    for price in soup.find_all('div',class_='PropertyCardWrapper__StyledPriceGridContainer-srp-8-100-4__sc-16e8gqd-0 eCcCyo'):\n",
    "        temp_prices = price.span.text\n",
    "        sales_price.append(temp_prices)\n",
    "    for details in soup.find_all('div',class_='StyledPropertyCardDataArea-c11n-8-100-4__sc-10i1r6-0 loHGQM'):\n",
    "        temp = details.text\n",
    "        detail_list.append(temp)\n",
    "    for broker in soup.find_all('div',class_='StyledPropertyCardDataArea-c11n-8-100-4__sc-10i1r6-0 dRseUs'):\n",
    "        temp = broker.text\n",
    "        broker_list.append(temp)\n",
    "    for address in soup.find_all('a',class_='StyledPropertyCardDataArea-c11n-8-100-4__sc-10i1r6-0 dKKiyn property-card-link'):\n",
    "        temp = address.text\n",
    "        address_list.append(temp)"
   ]
  },
  {
   "cell_type": "markdown",
   "id": "a5fec032",
   "metadata": {},
   "source": [
    "Create dataframe to store all information"
   ]
  },
  {
   "cell_type": "code",
   "execution_count": null,
   "id": "929c3c6b",
   "metadata": {},
   "outputs": [],
   "source": [
    "sales_df = pd.DataFrame({'SalesPrice':sales_price,'Housing_Details':detail_list,'Broker':broker_list,'address':address_list})"
   ]
  },
  {
   "cell_type": "markdown",
   "id": "79edabd8",
   "metadata": {},
   "source": [
    "Export to csv"
   ]
  },
  {
   "cell_type": "code",
   "execution_count": null,
   "id": "6b351716",
   "metadata": {},
   "outputs": [],
   "source": [
    "sales_df.to_csv('Zillow_Housing_data.csv')"
   ]
  }
 ],
 "metadata": {
  "kernelspec": {
   "display_name": "Python 3 (ipykernel)",
   "language": "python",
   "name": "python3"
  },
  "language_info": {
   "codemirror_mode": {
    "name": "ipython",
    "version": 3
   },
   "file_extension": ".py",
   "mimetype": "text/x-python",
   "name": "python",
   "nbconvert_exporter": "python",
   "pygments_lexer": "ipython3",
   "version": "3.10.12"
  }
 },
 "nbformat": 4,
 "nbformat_minor": 5
}
